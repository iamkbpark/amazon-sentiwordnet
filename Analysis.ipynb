{
 "metadata": {
  "name": ""
 },
 "nbformat": 3,
 "nbformat_minor": 0,
 "worksheets": [
  {
   "cells": [
    {
     "cell_type": "code",
     "collapsed": false,
     "input": [
      "import csv\n",
      "import logging\n",
      "import pickle\n",
      "import numpy as np\n",
      "from __future__ import division "
     ],
     "language": "python",
     "metadata": {},
     "outputs": [],
     "prompt_number": 59
    },
    {
     "cell_type": "code",
     "collapsed": false,
     "input": [
      "# Logging definition\n",
      "logger = logging.getLogger('analyzing')\n",
      "logger.setLevel(logging.DEBUG)\n",
      "fh = logging.FileHandler('log/process_ngrams.log')\n",
      "fh.setLevel(logging.DEBUG)\n",
      "formatter = logging.Formatter('%(asctime)s - %(name)s - %(levelname)s - %(message)s')\n",
      "fh.setFormatter(formatter)\n",
      "logger.addHandler(fh)"
     ],
     "language": "python",
     "metadata": {},
     "outputs": [],
     "prompt_number": 60
    },
    {
     "cell_type": "code",
     "collapsed": false,
     "input": [
      "def normalize(value):\n",
      "    \"\"\"\n",
      "    Normalize % value to 0.0<=value<=1.0\n",
      "    \"\"\"\n",
      "    value = float(value)\n",
      "    if value > 1.0:\n",
      "        return value / 100\n",
      "    else:\n",
      "        return value\n",
      "    \n",
      "# Load Sentiwordnet\n",
      "sentiwordnet = {}\n",
      "with open('data/sentiwordnet/sentiwordnet.tsv', 'rb') as ifile:\n",
      "    reader = csv.reader(ifile , delimiter='\\t')\n",
      "    headers = reader.next()\n",
      "    for row in reader:\n",
      "        # Upload only adjectives and with a specific objectivity threshold\n",
      "        cond1 = True\n",
      "        if cond1:\n",
      "            sentiwordnet[\"%s\" % (row[5])] = {\"pos\": normalize(row[6]), \"neg\": normalize(row[7]), \"obj\": 1.0}\n",
      "logger.info(' %s sentiwords loaded' % (len(sentiwordnet)))"
     ],
     "language": "python",
     "metadata": {},
     "outputs": [
      {
       "output_type": "stream",
       "stream": "stderr",
       "text": [
        "INFO:analyzing: 871 sentiwords loaded\n"
       ]
      }
     ],
     "prompt_number": 61
    },
    {
     "cell_type": "code",
     "collapsed": false,
     "input": [
      "# Process each review\n",
      "total_bands = {\"1.0\": 0, \"2.0\": 0, \"3.0\": 0, \"4.0\": 0, \"5.0\": 0}\n",
      "\n",
      "with open('data/output/words_labeled.p', 'rb') as ifile:\n",
      "    words = pickle.loads(ifile.read())\n",
      "    logger.info(' %s labeled words loaded' % (len(words)))\n",
      "    with open('data/output/results.tsv', 'wb') as ofile:\n",
      "        writer = csv.writer(ofile, delimiter='\\t')\n",
      "        writer.writerow([\"word\", \"pos\", \"neg\", \"1.0\", \"2.0\", \"3.0\", \"4.0\", \"5.0\"])\n",
      "                            \n",
      "        for word in words:\n",
      "            for band in words[word]:\n",
      "                total_bands[band] += words[word][band]\n",
      "            n = sum(words[word][i] for i in words[word])\n",
      "\n",
      "            # Random experiment\n",
      "            random_experiment = False\n",
      "            if not random_experiment:\n",
      "                sw_pos = sentiwordnet[word][\"pos\"]\n",
      "                sw_neg = sentiwordnet[word][\"neg\"]\n",
      "            else:\n",
      "                if np.random.uniform(0,1) > 0.5:\n",
      "                    sw_pos = 0.0\n",
      "                    sw_neg = np.random.uniform(0,1)\n",
      "                else:\n",
      "                    sw_neg = 0.0\n",
      "                    sw_pos = np.random.uniform(0,1)\n",
      "                    \n",
      "            # Write row to file\n",
      "            writer.writerow([word, sw_pos, sw_neg, \n",
      "                            words[word][\"1.0\"]/n, words[word][\"2.0\"]/n, words[word][\"3.0\"]/n, \n",
      "                            words[word][\"4.0\"]/n, words[word][\"5.0\"]/n])\n",
      "\n",
      "logger.info(' Bands distribution %s' % (total_bands))       "
     ],
     "language": "python",
     "metadata": {},
     "outputs": [
      {
       "output_type": "stream",
       "stream": "stderr",
       "text": [
        "INFO:analyzing: 510 labeled words loaded\n"
       ]
      },
      {
       "output_type": "stream",
       "stream": "stderr",
       "text": [
        "INFO:analyzing: Bands distribution {'5.0': 126337, '2.0': 32496, '1.0': 42538, '4.0': 93482, '3.0': 41045}\n"
       ]
      }
     ],
     "prompt_number": 62
    },
    {
     "cell_type": "heading",
     "level": 3,
     "metadata": {},
     "source": [
      "Bands probability Analysis "
     ]
    },
    {
     "cell_type": "code",
     "collapsed": false,
     "input": [
      "def acum_probability(data, bands):\n",
      "    \"\"\"\n",
      "    Return accum probability\n",
      "    \"\"\"\n",
      "    n = sum(data[band] for band in data)\n",
      "    if n == 0:\n",
      "        return 0.0\n",
      "    else:\n",
      "        return sum([data[band]/n for band in bands])\n",
      "        \n",
      "    \n",
      "with open('data/output/words_labeled.p', 'rb') as ifile:\n",
      "    words = pickle.load(ifile)\n",
      "    for word in words:\n",
      "        value = acum_probability(words[word], [\"3.0\", \"4.0\", \"5.0\"])\n",
      "        if value >= 0.9:\n",
      "            pass\n",
      "            print(word,\" \",words[word])"
     ],
     "language": "python",
     "metadata": {},
     "outputs": [
      {
       "output_type": "stream",
       "stream": "stdout",
       "text": [
        "('thoughtful', ' ', {'5.0': 14, '2.0': 1, '1.0': 1, '4.0': 7, '3.0': 3})\n",
        "('attentive', ' ', {'5.0': 5, '2.0': 0, '1.0': 0, '4.0': 2, '3.0': 0})\n",
        "('yummy', ' ', {'5.0': 1, '2.0': 0, '1.0': 0, '4.0': 0, '3.0': 0})\n",
        "('overdone', ' ', {'5.0': 3, '2.0': 0, '1.0': 0, '4.0': 0, '3.0': 0})\n",
        "('gloomy', ' ', {'5.0': 0, '2.0': 0, '1.0': 0, '4.0': 1, '3.0': 0})\n",
        "('darling', ' ', {'5.0': 3, '2.0': 0, '1.0': 0, '4.0': 0, '3.0': 1})\n",
        "('marvellous', ' ', {'5.0': 1, '2.0': 0, '1.0': 0, '4.0': 1, '3.0': 0})\n",
        "('nondescript', ' ', {'5.0': 0, '2.0': 0, '1.0': 0, '4.0': 3, '3.0': 1})\n",
        "('unexciting ', ' ', {'5.0': 0, '2.0': 0, '1.0': 0, '4.0': 1, '3.0': 0})\n",
        "('prosaic', ' ', {'5.0': 1, '2.0': 0, '1.0': 0, '4.0': 0, '3.0': 0})\n",
        "('apologetic', ' ', {'5.0': 0, '2.0': 0, '1.0': 0, '4.0': 0, '3.0': 1})\n",
        "('smoky', ' ', {'5.0': 0, '2.0': 0, '1.0': 0, '4.0': 0, '3.0': 1})\n",
        "('commendable', ' ', {'5.0': 1, '2.0': 0, '1.0': 0, '4.0': 1, '3.0': 0})\n",
        "('whimsical', ' ', {'5.0': 1, '2.0': 0, '1.0': 0, '4.0': 0, '3.0': 1})\n",
        "('faultless', ' ', {'5.0': 1, '2.0': 0, '1.0': 0, '4.0': 1, '3.0': 1})\n",
        "('excellent', ' ', {'5.0': 2824, '2.0': 206, '1.0': 158, '4.0': 1416, '3.0': 340})\n",
        "('outmoded', ' ', {'5.0': 1, '2.0': 0, '1.0': 0, '4.0': 0, '3.0': 1})\n",
        "('awesome', ' ', {'5.0': 1106, '2.0': 80, '1.0': 73, '4.0': 382, '3.0': 111})\n",
        "('contented', ' ', {'5.0': 0, '2.0': 0, '1.0': 0, '4.0': 0, '3.0': 1})\n",
        "('colorful', ' ', {'5.0': 48, '2.0': 7, '1.0': 2, '4.0': 59, '3.0': 21})\n",
        "('flawless', ' ', {'5.0': 387, '2.0': 32, '1.0': 28, '4.0': 172, '3.0': 43})\n",
        "('amazing', ' ', {'5.0': 1033, '2.0': 59, '1.0': 90, '4.0': 393, '3.0': 119})\n",
        "('undersized', ' ', {'5.0': 1, '2.0': 0, '1.0': 0, '4.0': 0, '3.0': 1})\n",
        "('garish ', ' ', {'5.0': 1, '2.0': 0, '1.0': 0, '4.0': 1, '3.0': 0})\n",
        "('panoramic', ' ', {'5.0': 5, '2.0': 0, '1.0': 0, '4.0': 2, '3.0': 0})\n",
        "('muggy', ' ', {'5.0': 1, '2.0': 0, '1.0': 0, '4.0': 0, '3.0': 0})\n",
        "('splendid', ' ', {'5.0': 4, '2.0': 0, '1.0': 0, '4.0': 3, '3.0': 1})\n",
        "('rowdy', ' ', {'5.0': 1, '2.0': 0, '1.0': 0, '4.0': 0, '3.0': 0})\n",
        "('classy', ' ', {'5.0': 59, '2.0': 4, '1.0': 2, '4.0': 18, '3.0': 9})\n",
        "('satisfied', ' ', {'5.0': 700, '2.0': 64, '1.0': 78, '4.0': 486, '3.0': 103})\n",
        "('perfect', ' ', {'5.0': 4306, '2.0': 288, '1.0': 289, '4.0': 1757, '3.0': 473})\n",
        "('understated', ' ', {'5.0': 15, '2.0': 0, '1.0': 0, '4.0': 5, '3.0': 0})\n",
        "('spacious', ' ', {'5.0': 7, '2.0': 0, '1.0': 0, '4.0': 2, '3.0': 2})\n",
        "('savory', ' ', {'5.0': 1, '2.0': 0, '1.0': 0, '4.0': 0, '3.0': 0})\n",
        "('handy', ' ', {'5.0': 506, '2.0': 52, '1.0': 30, '4.0': 361, '3.0': 112})\n",
        "('dingy', ' ', {'5.0': 3, '2.0': 0, '1.0': 0, '4.0': 4, '3.0': 0})\n",
        "('exquisite', ' ', {'5.0': 4, '2.0': 0, '1.0': 0, '4.0': 2, '3.0': 0})\n",
        "('unoriginal', ' ', {'5.0': 1, '2.0': 0, '1.0': 0, '4.0': 1, '3.0': 0})\n",
        "('unabashed', ' ', {'5.0': 2, '2.0': 0, '1.0': 0, '4.0': 0, '3.0': 1})\n",
        "('pleasant', ' ', {'5.0': 207, '2.0': 18, '1.0': 12, '4.0': 96, '3.0': 17})\n",
        "('bland', ' ', {'5.0': 1, '2.0': 1, '1.0': 0, '4.0': 7, '3.0': 2})\n",
        "('soundproof ', ' ', {'5.0': 0, '2.0': 0, '1.0': 0, '4.0': 0, '3.0': 1})\n",
        "('monotonous', ' ', {'5.0': 1, '2.0': 0, '1.0': 0, '4.0': 0, '3.0': 0})\n",
        "('plentiful', ' ', {'5.0': 5, '2.0': 1, '1.0': 0, '4.0': 7, '3.0': 4})\n",
        "('grimy', ' ', {'5.0': 1, '2.0': 0, '1.0': 0, '4.0': 0, '3.0': 0})\n",
        "('airy', ' ', {'5.0': 0, '2.0': 0, '1.0': 0, '4.0': 0, '3.0': 2})\n",
        "('offhand', ' ', {'5.0': 0, '2.0': 0, '1.0': 0, '4.0': 0, '3.0': 1})\n",
        "('dreary', ' ', {'5.0': 0, '2.0': 0, '1.0': 0, '4.0': 1, '3.0': 0})\n",
        "('sultry', ' ', {'5.0': 1, '2.0': 0, '1.0': 0, '4.0': 0, '3.0': 0})\n",
        "('outstanding', ' ', {'5.0': 249, '2.0': 12, '1.0': 16, '4.0': 108, '3.0': 36})\n",
        "('tidy', ' ', {'5.0': 10, '2.0': 0, '1.0': 1, '4.0': 2, '3.0': 0})\n",
        "('juicy', ' ', {'5.0': 0, '2.0': 0, '1.0': 0, '4.0': 1, '3.0': 1})\n",
        "('mawkish', ' ', {'5.0': 0, '2.0': 0, '1.0': 0, '4.0': 0, '3.0': 1})\n",
        "('fashionable', ' ', {'5.0': 28, '2.0': 0, '1.0': 3, '4.0': 23, '3.0': 6})\n",
        "('uncouth', ' ', {'5.0': 1, '2.0': 0, '1.0': 0, '4.0': 0, '3.0': 0})\n",
        "('demolished', ' ', {'5.0': 1, '2.0': 0, '1.0': 0, '4.0': 0, '3.0': 1})\n",
        "('multilingual', ' ', {'5.0': 0, '2.0': 0, '1.0': 0, '4.0': 4, '3.0': 0})\n",
        "('surprising', ' ', {'5.0': 157, '2.0': 19, '1.0': 14, '4.0': 143, '3.0': 43})\n",
        "('astonishing', ' ', {'5.0': 5, '2.0': 0, '1.0': 1, '4.0': 8, '3.0': 2})\n",
        "('orderly', ' ', {'5.0': 1, '2.0': 0, '1.0': 0, '4.0': 0, '3.0': 1})\n",
        "('discontent', ' ', {'5.0': 0, '2.0': 0, '1.0': 0, '4.0': 0, '3.0': 1})\n",
        "('scorched', ' ', {'5.0': 0, '2.0': 0, '1.0': 0, '4.0': 0, '3.0': 1})\n",
        "('contemporary', ' ', {'5.0': 2, '2.0': 0, '1.0': 0, '4.0': 22, '3.0': 0})\n",
        "('gratified', ' ', {'5.0': 2, '2.0': 0, '1.0': 0, '4.0': 0, '3.0': 0})\n",
        "('pleased', ' ', {'5.0': 1116, '2.0': 70, '1.0': 87, '4.0': 660, '3.0': 104})\n",
        "('delinquent', ' ', {'5.0': 0, '2.0': 0, '1.0': 0, '4.0': 0, '3.0': 1})\n",
        "('gratis', ' ', {'5.0': 0, '2.0': 0, '1.0': 0, '4.0': 1, '3.0': 0})\n",
        "('exceptional', ' ', {'5.0': 170, '2.0': 11, '1.0': 14, '4.0': 94, '3.0': 30})\n",
        "('unbeatable', ' ', {'5.0': 51, '2.0': 0, '1.0': 2, '4.0': 20, '3.0': 4})\n",
        "('sassy', ' ', {'5.0': 0, '2.0': 0, '1.0': 0, '4.0': 0, '3.0': 1})\n",
        "('unworthy', ' ', {'5.0': 0, '2.0': 0, '1.0': 0, '4.0': 1, '3.0': 0})\n",
        "('fascinating', ' ', {'5.0': 3, '2.0': 0, '1.0': 0, '4.0': 1, '3.0': 1})\n",
        "('fluffy', ' ', {'5.0': 0, '2.0': 0, '1.0': 0, '4.0': 1, '3.0': 2})\n",
        "('satisfying', ' ', {'5.0': 31, '2.0': 2, '1.0': 4, '4.0': 19, '3.0': 5})\n",
        "('superb', ' ', {'5.0': 210, '2.0': 18, '1.0': 13, '4.0': 80, '3.0': 26})\n",
        "('affordable', ' ', {'5.0': 169, '2.0': 12, '1.0': 12, '4.0': 89, '3.0': 19})\n",
        "('gorgeous', ' ', {'5.0': 59, '2.0': 8, '1.0': 3, '4.0': 50, '3.0': 13})\n",
        "('homely', ' ', {'5.0': 0, '2.0': 0, '1.0': 0, '4.0': 0, '3.0': 1})\n",
        "('welcoming', ' ', {'5.0': 1, '2.0': 0, '1.0': 0, '4.0': 0, '3.0': 1})\n",
        "('pretentious', ' ', {'5.0': 2, '2.0': 0, '1.0': 0, '4.0': 3, '3.0': 1})\n",
        "('impeccable', ' ', {'5.0': 5, '2.0': 0, '1.0': 0, '4.0': 1, '3.0': 0})\n",
        "('stinky', ' ', {'5.0': 2, '2.0': 0, '1.0': 0, '4.0': 0, '3.0': 0})\n",
        "('mislaid', ' ', {'5.0': 0, '2.0': 0, '1.0': 0, '4.0': 0, '3.0': 1})\n",
        "('extortionate', ' ', {'5.0': 0, '2.0': 0, '1.0': 0, '4.0': 0, '3.0': 1})\n",
        "('humdrum', ' ', {'5.0': 1, '2.0': 0, '1.0': 0, '4.0': 0, '3.0': 1})\n",
        "('fantastic', ' ', {'5.0': 522, '2.0': 32, '1.0': 49, '4.0': 207, '3.0': 63})\n",
        "('keen', ' ', {'5.0': 7, '2.0': 0, '1.0': 1, '4.0': 5, '3.0': 4})\n",
        "('roomy', ' ', {'5.0': 10, '2.0': 0, '1.0': 0, '4.0': 3, '3.0': 1})\n",
        "('repetitious', ' ', {'5.0': 1, '2.0': 0, '1.0': 0, '4.0': 0, '3.0': 0})\n",
        "('easy', ' ', {'5.0': 5311, '2.0': 666, '1.0': 436, '4.0': 3603, '3.0': 1069})\n",
        "('dreamy', ' ', {'5.0': 1, '2.0': 0, '1.0': 0, '4.0': 0, '3.0': 0})\n",
        "('informative', ' ', {'5.0': 8, '2.0': 0, '1.0': 1, '4.0': 5, '3.0': 1})\n",
        "('accessible', ' ', {'5.0': 114, '2.0': 12, '1.0': 7, '4.0': 83, '3.0': 30})\n",
        "('stuffy', ' ', {'5.0': 5, '2.0': 0, '1.0': 0, '4.0': 0, '3.0': 0})\n",
        "('amicable', ' ', {'5.0': 1, '2.0': 0, '1.0': 0, '4.0': 0, '3.0': 0})\n",
        "('nauseating', ' ', {'5.0': 0, '2.0': 0, '1.0': 0, '4.0': 1, '3.0': 1})\n",
        "('appreciative', ' ', {'5.0': 6, '2.0': 0, '1.0': 0, '4.0': 2, '3.0': 0})\n",
        "('economical', ' ', {'5.0': 29, '2.0': 3, '1.0': 2, '4.0': 18, '3.0': 4})\n",
        "('palatable', ' ', {'5.0': 0, '2.0': 0, '1.0': 0, '4.0': 1, '3.0': 0})\n",
        "('undeserving ', ' ', {'5.0': 0, '2.0': 0, '1.0': 0, '4.0': 0, '3.0': 1})\n",
        "('deranged', ' ', {'5.0': 0, '2.0': 0, '1.0': 0, '4.0': 0, '3.0': 1})\n",
        "('lively', ' ', {'5.0': 1, '2.0': 0, '1.0': 0, '4.0': 1, '3.0': 0})\n",
        "('refined', ' ', {'5.0': 11, '2.0': 0, '1.0': 1, '4.0': 5, '3.0': 4})\n",
        "('unfashionable', ' ', {'5.0': 0, '2.0': 0, '1.0': 0, '4.0': 1, '3.0': 2})\n",
        "('immaculate', ' ', {'5.0': 1, '2.0': 0, '1.0': 0, '4.0': 1, '3.0': 1})\n",
        "('refreshing', ' ', {'5.0': 13, '2.0': 1, '1.0': 0, '4.0': 9, '3.0': 0})\n",
        "('romantic', ' ', {'5.0': 0, '2.0': 0, '1.0': 0, '4.0': 0, '3.0': 1})\n",
        "('cordial', ' ', {'5.0': 0, '2.0': 0, '1.0': 0, '4.0': 3, '3.0': 0})\n",
        "('tasty', ' ', {'5.0': 2, '2.0': 0, '1.0': 0, '4.0': 1, '3.0': 0})\n",
        "('stagnant', ' ', {'5.0': 1, '2.0': 0, '1.0': 0, '4.0': 0, '3.0': 0})\n",
        "('energetic', ' ', {'5.0': 2, '2.0': 0, '1.0': 0, '4.0': 0, '3.0': 0})\n",
        "('astounding', ' ', {'5.0': 12, '2.0': 1, '1.0': 0, '4.0': 6, '3.0': 0})\n",
        "('drab', ' ', {'5.0': 2, '2.0': 0, '1.0': 0, '4.0': 1, '3.0': 1})\n",
        "('deluxe', ' ', {'5.0': 26, '2.0': 4, '1.0': 0, '4.0': 15, '3.0': 5})\n"
       ]
      }
     ],
     "prompt_number": 63
    },
    {
     "cell_type": "code",
     "collapsed": false,
     "input": [
      "total_bands = {\"1.0\": 0, \"2.0\": 0, \"3.0\": 0, \"4.0\": 0, \"5.0\": 0}\n",
      "with open('data/amazon/Cell_Phones_&_Accessories.txt', 'rb') as ifile:\n",
      "    for line in ifile.readlines():\n",
      "        if \"review/score\" in line:\n",
      "            score = float(line[len(line)-4:len(line)])\n",
      "            total_bands[str(score)] += 1\n",
      "print(total_bands)"
     ],
     "language": "python",
     "metadata": {},
     "outputs": [
      {
       "output_type": "stream",
       "stream": "stdout",
       "text": [
        "{'5.0': 30253, '2.0': 7566, '1.0': 14675, '4.0': 17717, '3.0': 8719}\n"
       ]
      }
     ],
     "prompt_number": 14
    },
    {
     "cell_type": "code",
     "collapsed": false,
     "input": [],
     "language": "python",
     "metadata": {},
     "outputs": []
    }
   ],
   "metadata": {}
  }
 ]
}