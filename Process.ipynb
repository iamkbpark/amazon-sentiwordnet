{
 "metadata": {
  "name": ""
 },
 "nbformat": 3,
 "nbformat_minor": 0,
 "worksheets": [
  {
   "cells": [
    {
     "cell_type": "code",
     "collapsed": false,
     "input": [
      "import logging\n",
      "import csv\n",
      "import re\n",
      "import operator\n",
      "import pickle"
     ],
     "language": "python",
     "metadata": {},
     "outputs": [],
     "prompt_number": 26
    },
    {
     "cell_type": "code",
     "collapsed": false,
     "input": [
      "# Logging definition\n",
      "logger = logging.getLogger('processing')\n",
      "logger.setLevel(logging.DEBUG)\n",
      "fh = logging.FileHandler('log/process_ngrams.log')\n",
      "fh.setLevel(logging.DEBUG)\n",
      "formatter = logging.Formatter('%(asctime)s - %(name)s - %(levelname)s - %(message)s')\n",
      "fh.setFormatter(formatter)\n",
      "logger.addHandler(fh)"
     ],
     "language": "python",
     "metadata": {},
     "outputs": [],
     "prompt_number": 27
    },
    {
     "cell_type": "heading",
     "level": 3,
     "metadata": {},
     "source": [
      "NLP analysis"
     ]
    },
    {
     "cell_type": "code",
     "collapsed": false,
     "input": [
      "# Load Sentiwordnet\n",
      "sentiwordnet = {}\n",
      "with open('data/sentiwordnet/sentiwordnet.tsv', 'rb') as ifile:\n",
      "    reader = csv.reader(ifile , delimiter='\\t')\n",
      "    headers = reader.next()\n",
      "    for row in reader:\n",
      "        # Upload only adjectives and with a specific objectivity threshold\n",
      "        cond1 = row[2] == \"a\"\n",
      "        if cond1:\n",
      "            sentiwordnet[\"%s\" % (row[5])] = {\"pos\": float(row[6]), \"neg\": float(row[7]), \"obj\": 1.0, \n",
      "                                             \"regex\": re.compile('(\\s\\S+){0,%s} (%s)(\\s\\S+){0,%s}' % (3, row[5] ,3) , re.IGNORECASE)}\n",
      "logger.info(' %s sentiwords loaded.' % (len(sentiwordnet)))"
     ],
     "language": "python",
     "metadata": {},
     "outputs": [
      {
       "output_type": "stream",
       "stream": "stderr",
       "text": [
        "INFO:processing: 701 sentiwords loaded.\n"
       ]
      }
     ],
     "prompt_number": 28
    },
    {
     "cell_type": "code",
     "collapsed": false,
     "input": [
      "# Process each review and generate coocurrences matrix\n",
      "words_labels = {}\n",
      "\n",
      "review_number = 0\n",
      "with open('data/amazon/Cell_Phones_&_Accessories.txt', 'rb') as ifile:\n",
      "    with open('data/output/words_labeled.p', 'wb') as ofile:\n",
      "        # Write header\n",
      "        ofile.write(\"word\\tpos\\tneg\\tlabel\\n\")                                 \n",
      "        review = \"\"\n",
      "        score = 0\n",
      "        for line in ifile.readlines():\n",
      "            # Review Processing\n",
      "            if \"product/productId\" in line and len(review) > 0:\n",
      "                chunks = re.split(';|,|\\\\.|\\\\*|\\\\n', review)\n",
      "                for chunk in chunks:\n",
      "                    for w in sentiwordnet:\n",
      "                        for match in sentiwordnet[w][\"regex\"].finditer(chunk):\n",
      "                            #ofile.write(\"%s\\t%s\\t%s\\t%s\\t\\n\" % (w, sentiwordnet[w][\"pos\"], sentiwordnet[w][\"neg\"], score))\n",
      "                            if w not in words_labels:\n",
      "                                words_labels[w] = {\"1.0\": 0, \"2.0\": 0, \"3.0\": 0, \"4.0\": 0, \"5.0\": 0}\n",
      "                            words_labels[w][str(score)] += 1\n",
      "                # Clean review content\n",
      "                review = \"\"\n",
      "                # Debug info\n",
      "                if review_number % 500 == 0:\n",
      "                    logger.info(' Reviews proccesed: %s Word detected: %s' % (review_number, len(words_labels)))\n",
      "                    # Incremental saving\n",
      "                    pickle.dump(words_labels, ofile)\n",
      "                    if review_number == 500:\n",
      "                        break\n",
      "                review_number += 1\n",
      "            # Add score\n",
      "            if \"review/score\" in line:\n",
      "                score = float(line[len(line)-4:len(line)])\n",
      "            # Add line to review\n",
      "            if \"review/text\" in line:\n",
      "                review += line       \n",
      "logger.info(' Saved %s words labeled.' % (len(words_labels))) "
     ],
     "language": "python",
     "metadata": {},
     "outputs": [
      {
       "output_type": "stream",
       "stream": "stderr",
       "text": [
        "INFO:processing: Reviews proccesed: 0 Word detected: 1\n"
       ]
      },
      {
       "ename": "KeyboardInterrupt",
       "evalue": "",
       "output_type": "pyerr",
       "traceback": [
        "\u001b[0;31m---------------------------------------------------------------------------\u001b[0m\n\u001b[0;31mKeyboardInterrupt\u001b[0m                         Traceback (most recent call last)",
        "\u001b[0;32m<ipython-input-29-857fddf14826>\u001b[0m in \u001b[0;36m<module>\u001b[0;34m()\u001b[0m\n\u001b[1;32m     15\u001b[0m                 \u001b[0;32mfor\u001b[0m \u001b[0mchunk\u001b[0m \u001b[0;32min\u001b[0m \u001b[0mchunks\u001b[0m\u001b[0;34m:\u001b[0m\u001b[0;34m\u001b[0m\u001b[0m\n\u001b[1;32m     16\u001b[0m                     \u001b[0;32mfor\u001b[0m \u001b[0mw\u001b[0m \u001b[0;32min\u001b[0m \u001b[0msentiwordnet\u001b[0m\u001b[0;34m:\u001b[0m\u001b[0;34m\u001b[0m\u001b[0m\n\u001b[0;32m---> 17\u001b[0;31m                         \u001b[0;32mfor\u001b[0m \u001b[0mmatch\u001b[0m \u001b[0;32min\u001b[0m \u001b[0msentiwordnet\u001b[0m\u001b[0;34m[\u001b[0m\u001b[0mw\u001b[0m\u001b[0;34m]\u001b[0m\u001b[0;34m[\u001b[0m\u001b[0;34m\"regex\"\u001b[0m\u001b[0;34m]\u001b[0m\u001b[0;34m.\u001b[0m\u001b[0mfinditer\u001b[0m\u001b[0;34m(\u001b[0m\u001b[0mchunk\u001b[0m\u001b[0;34m)\u001b[0m\u001b[0;34m:\u001b[0m\u001b[0;34m\u001b[0m\u001b[0m\n\u001b[0m\u001b[1;32m     18\u001b[0m                             \u001b[0;31m#ofile.write(\"%s\\t%s\\t%s\\t%s\\t\\n\" % (w, sentiwordnet[w][\"pos\"], sentiwordnet[w][\"neg\"], score))\u001b[0m\u001b[0;34m\u001b[0m\u001b[0;34m\u001b[0m\u001b[0m\n\u001b[1;32m     19\u001b[0m                             \u001b[0;32mif\u001b[0m \u001b[0mw\u001b[0m \u001b[0;32mnot\u001b[0m \u001b[0;32min\u001b[0m \u001b[0mwords_labels\u001b[0m\u001b[0;34m:\u001b[0m\u001b[0;34m\u001b[0m\u001b[0m\n",
        "\u001b[0;31mKeyboardInterrupt\u001b[0m: "
       ]
      }
     ],
     "prompt_number": 29
    },
    {
     "cell_type": "code",
     "collapsed": false,
     "input": [],
     "language": "python",
     "metadata": {},
     "outputs": []
    }
   ],
   "metadata": {}
  }
 ]
}