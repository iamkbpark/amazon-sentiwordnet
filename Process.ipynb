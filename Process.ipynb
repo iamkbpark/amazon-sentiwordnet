{
 "metadata": {
  "name": ""
 },
 "nbformat": 3,
 "nbformat_minor": 0,
 "worksheets": [
  {
   "cells": [
    {
     "cell_type": "code",
     "collapsed": false,
     "input": [
      "import logging\n",
      "import csv\n",
      "import re\n",
      "import operator\n",
      "import pickle"
     ],
     "language": "python",
     "metadata": {},
     "outputs": [],
     "prompt_number": 107
    },
    {
     "cell_type": "code",
     "collapsed": false,
     "input": [
      "# Logging definition\n",
      "logger = logging.getLogger('processing')\n",
      "logger.setLevel(logging.DEBUG)\n",
      "fh = logging.FileHandler('log/process_ngrams.log')\n",
      "fh.setLevel(logging.DEBUG)\n",
      "formatter = logging.Formatter('%(asctime)s - %(name)s - %(levelname)s - %(message)s')\n",
      "fh.setFormatter(formatter)\n",
      "logger.addHandler(fh)"
     ],
     "language": "python",
     "metadata": {},
     "outputs": [],
     "prompt_number": 108
    },
    {
     "cell_type": "heading",
     "level": 3,
     "metadata": {},
     "source": [
      "NLP analysis"
     ]
    },
    {
     "cell_type": "code",
     "collapsed": false,
     "input": [
      "# Load Sentiwordnet\n",
      "sentiwordnet = {}\n",
      "with open('data/sentiwordnet/sentiwordnet.tsv', 'rb') as ifile:\n",
      "    reader = csv.reader(ifile , delimiter='\\t')\n",
      "    headers = reader.next()\n",
      "    for row in reader:\n",
      "        # Upload only adjectives and with a specific objectivity threshold\n",
      "        cond1 = row[2] == \"a\"\n",
      "        if cond1:\n",
      "            sentiwordnet[\"%s\" % (row[5])] = {\"pos\": float(row[6]), \"neg\": float(row[7]), \"obj\": 1.0, \n",
      "                                             \"regex\": re.compile('(\\s\\S+){0,%s} (%s)(\\s\\S+){0,%s}' % (words_window_coocurrences, row[5] ,words_window_coocurrences) , re.IGNORECASE)}\n",
      "logger.info(' %s sentiwords loaded with a objectivite score > %f' % (len(sentiwordnet), sentiwordnet_objectivity))"
     ],
     "language": "python",
     "metadata": {},
     "outputs": [
      {
       "output_type": "stream",
       "stream": "stderr",
       "text": [
        "INFO:processing: 701 sentiwords loaded with a objectivite score > 0.600000\n"
       ]
      }
     ],
     "prompt_number": 110
    },
    {
     "cell_type": "code",
     "collapsed": false,
     "input": [
      "# Process each review and generate coocurrences matrix\n",
      "words_labels = {}\n",
      "get = coocurrences.get\n",
      "\n",
      "review_number = 0\n",
      "with open('data/amazon/Cell_Phones_&_Accessories.txt', 'rb') as ifile:\n",
      "    with open('data/output/words_labeled.p', 'wb') as ofile:\n",
      "        # Write header\n",
      "        ofile.write(\"word\\tpos\\tneg\\tlabel\\n\")                                 \n",
      "        review = \"\"\n",
      "        score = 0\n",
      "        for line in ifile.readlines():\n",
      "            # Review Processing\n",
      "            if \"product/productId\" in line and len(review) > 0:\n",
      "                chunks = re.split(';|,|\\\\.|\\\\*|\\\\n', review)\n",
      "                for chunk in chunks:\n",
      "                    for w in sentiwordnet:\n",
      "                        for match in sentiwordnet[w][\"regex\"].finditer(chunk):\n",
      "                            #ofile.write(\"%s\\t%s\\t%s\\t%s\\t\\n\" % (w, sentiwordnet[w][\"pos\"], sentiwordnet[w][\"neg\"], score))\n",
      "                            if w not in words_labels:\n",
      "                                words_labels[w] = {\"1.0\": 0, \"2.0\": 0, \"3.0\": 0, \"4.0\": 0, \"5.0\": 0}\n",
      "                            words_labels[w][str(score)] += 1\n",
      "                # Clean review content\n",
      "                review = \"\"\n",
      "                # Debug info\n",
      "                if review_number % 500 == 0:\n",
      "                    logger.info(' Reviews proccesed: %s Word detected: %s' % (review_number, len(words_labels)))\n",
      "                    # Incremental saving\n",
      "                    pickle.dump(words_labels, ofile)\n",
      "                review_number += 1\n",
      "            # Add score\n",
      "            if \"review/score\" in line:\n",
      "                score = float(line[len(line)-4:len(line)])\n",
      "            # Add line to review\n",
      "            if \"review/text\" in line:\n",
      "                review += line       \n",
      "logger.info(' Saved %s words labeled.' % (len(words_labels))) "
     ],
     "language": "python",
     "metadata": {},
     "outputs": [
      {
       "output_type": "stream",
       "stream": "stderr",
       "text": [
        "INFO:processing: Reviews proccesed: 0 Word detected: 1\n"
       ]
      },
      {
       "output_type": "stream",
       "stream": "stderr",
       "text": [
        "INFO:processing: Reviews proccesed: 500 Word detected: 158\n"
       ]
      },
      {
       "output_type": "stream",
       "stream": "stderr",
       "text": [
        "INFO:processing: Reviews proccesed: 1000 Word detected: 214\n"
       ]
      },
      {
       "output_type": "stream",
       "stream": "stderr",
       "text": [
        "INFO:processing: Reviews proccesed: 1500 Word detected: 250\n"
       ]
      },
      {
       "output_type": "stream",
       "stream": "stderr",
       "text": [
        "INFO:processing: Reviews proccesed: 2000 Word detected: 264\n"
       ]
      },
      {
       "output_type": "stream",
       "stream": "stderr",
       "text": [
        "INFO:processing: Reviews proccesed: 2500 Word detected: 275\n"
       ]
      },
      {
       "output_type": "stream",
       "stream": "stderr",
       "text": [
        "INFO:processing: Reviews proccesed: 3000 Word detected: 282\n"
       ]
      },
      {
       "output_type": "stream",
       "stream": "stderr",
       "text": [
        "INFO:processing: Reviews proccesed: 3500 Word detected: 289\n"
       ]
      },
      {
       "output_type": "stream",
       "stream": "stderr",
       "text": [
        "INFO:processing: Reviews proccesed: 4000 Word detected: 305\n"
       ]
      },
      {
       "output_type": "stream",
       "stream": "stderr",
       "text": [
        "INFO:processing: Reviews proccesed: 4500 Word detected: 320\n"
       ]
      },
      {
       "output_type": "stream",
       "stream": "stderr",
       "text": [
        "INFO:processing: Reviews proccesed: 5000 Word detected: 335\n"
       ]
      },
      {
       "output_type": "stream",
       "stream": "stderr",
       "text": [
        "INFO:processing: Reviews proccesed: 5500 Word detected: 338\n"
       ]
      },
      {
       "output_type": "stream",
       "stream": "stderr",
       "text": [
        "INFO:processing: Reviews proccesed: 6000 Word detected: 340\n"
       ]
      },
      {
       "output_type": "stream",
       "stream": "stderr",
       "text": [
        "INFO:processing: Reviews proccesed: 6500 Word detected: 349\n"
       ]
      },
      {
       "output_type": "stream",
       "stream": "stderr",
       "text": [
        "INFO:processing: Reviews proccesed: 7000 Word detected: 355\n"
       ]
      },
      {
       "output_type": "stream",
       "stream": "stderr",
       "text": [
        "INFO:processing: Reviews proccesed: 7500 Word detected: 359\n"
       ]
      },
      {
       "output_type": "stream",
       "stream": "stderr",
       "text": [
        "INFO:processing: Reviews proccesed: 8000 Word detected: 363\n"
       ]
      },
      {
       "output_type": "stream",
       "stream": "stderr",
       "text": [
        "INFO:processing: Reviews proccesed: 8500 Word detected: 372\n"
       ]
      },
      {
       "output_type": "stream",
       "stream": "stderr",
       "text": [
        "INFO:processing: Reviews proccesed: 9000 Word detected: 376\n"
       ]
      },
      {
       "output_type": "stream",
       "stream": "stderr",
       "text": [
        "INFO:processing: Reviews proccesed: 9500 Word detected: 379\n"
       ]
      },
      {
       "output_type": "stream",
       "stream": "stderr",
       "text": [
        "INFO:processing: Reviews proccesed: 10000 Word detected: 383\n"
       ]
      },
      {
       "output_type": "stream",
       "stream": "stderr",
       "text": [
        "INFO:processing: Reviews proccesed: 10500 Word detected: 387\n"
       ]
      },
      {
       "output_type": "stream",
       "stream": "stderr",
       "text": [
        "INFO:processing: Reviews proccesed: 11000 Word detected: 390\n"
       ]
      },
      {
       "output_type": "stream",
       "stream": "stderr",
       "text": [
        "INFO:processing: Reviews proccesed: 11500 Word detected: 392\n"
       ]
      },
      {
       "output_type": "stream",
       "stream": "stderr",
       "text": [
        "INFO:processing: Reviews proccesed: 12000 Word detected: 395\n"
       ]
      },
      {
       "output_type": "stream",
       "stream": "stderr",
       "text": [
        "INFO:processing: Reviews proccesed: 12500 Word detected: 398\n"
       ]
      },
      {
       "output_type": "stream",
       "stream": "stderr",
       "text": [
        "INFO:processing: Reviews proccesed: 13000 Word detected: 402\n"
       ]
      },
      {
       "output_type": "stream",
       "stream": "stderr",
       "text": [
        "INFO:processing: Reviews proccesed: 13500 Word detected: 402\n"
       ]
      },
      {
       "output_type": "stream",
       "stream": "stderr",
       "text": [
        "INFO:processing: Reviews proccesed: 14000 Word detected: 402\n"
       ]
      },
      {
       "output_type": "stream",
       "stream": "stderr",
       "text": [
        "INFO:processing: Reviews proccesed: 14500 Word detected: 403\n"
       ]
      },
      {
       "output_type": "stream",
       "stream": "stderr",
       "text": [
        "INFO:processing: Reviews proccesed: 15000 Word detected: 408\n"
       ]
      },
      {
       "output_type": "stream",
       "stream": "stderr",
       "text": [
        "INFO:processing: Reviews proccesed: 15500 Word detected: 408\n"
       ]
      },
      {
       "output_type": "stream",
       "stream": "stderr",
       "text": [
        "INFO:processing: Reviews proccesed: 16000 Word detected: 413\n"
       ]
      },
      {
       "output_type": "stream",
       "stream": "stderr",
       "text": [
        "INFO:processing: Reviews proccesed: 16500 Word detected: 414\n"
       ]
      },
      {
       "output_type": "stream",
       "stream": "stderr",
       "text": [
        "INFO:processing: Reviews proccesed: 17000 Word detected: 414\n"
       ]
      },
      {
       "output_type": "stream",
       "stream": "stderr",
       "text": [
        "INFO:processing: Reviews proccesed: 17500 Word detected: 414\n"
       ]
      },
      {
       "output_type": "stream",
       "stream": "stderr",
       "text": [
        "INFO:processing: Reviews proccesed: 18000 Word detected: 415\n"
       ]
      },
      {
       "output_type": "stream",
       "stream": "stderr",
       "text": [
        "INFO:processing: Reviews proccesed: 18500 Word detected: 416\n"
       ]
      },
      {
       "output_type": "stream",
       "stream": "stderr",
       "text": [
        "INFO:processing: Reviews proccesed: 19000 Word detected: 417\n"
       ]
      },
      {
       "output_type": "stream",
       "stream": "stderr",
       "text": [
        "INFO:processing: Reviews proccesed: 19500 Word detected: 418\n"
       ]
      },
      {
       "output_type": "stream",
       "stream": "stderr",
       "text": [
        "INFO:processing: Reviews proccesed: 20000 Word detected: 418\n"
       ]
      },
      {
       "output_type": "stream",
       "stream": "stderr",
       "text": [
        "INFO:processing: Reviews proccesed: 20500 Word detected: 419\n"
       ]
      },
      {
       "output_type": "stream",
       "stream": "stderr",
       "text": [
        "INFO:processing: Reviews proccesed: 21000 Word detected: 420\n"
       ]
      },
      {
       "output_type": "stream",
       "stream": "stderr",
       "text": [
        "INFO:processing: Reviews proccesed: 21500 Word detected: 422\n"
       ]
      },
      {
       "output_type": "stream",
       "stream": "stderr",
       "text": [
        "INFO:processing: Reviews proccesed: 22000 Word detected: 422\n"
       ]
      },
      {
       "output_type": "stream",
       "stream": "stderr",
       "text": [
        "INFO:processing: Reviews proccesed: 22500 Word detected: 422\n"
       ]
      },
      {
       "output_type": "stream",
       "stream": "stderr",
       "text": [
        "INFO:processing: Reviews proccesed: 23000 Word detected: 423\n"
       ]
      },
      {
       "output_type": "stream",
       "stream": "stderr",
       "text": [
        "INFO:processing: Reviews proccesed: 23500 Word detected: 426\n"
       ]
      },
      {
       "output_type": "stream",
       "stream": "stderr",
       "text": [
        "INFO:processing: Reviews proccesed: 24000 Word detected: 427\n"
       ]
      },
      {
       "output_type": "stream",
       "stream": "stderr",
       "text": [
        "INFO:processing: Reviews proccesed: 24500 Word detected: 430\n"
       ]
      },
      {
       "output_type": "stream",
       "stream": "stderr",
       "text": [
        "INFO:processing: Reviews proccesed: 25000 Word detected: 431\n"
       ]
      },
      {
       "output_type": "stream",
       "stream": "stderr",
       "text": [
        "INFO:processing: Reviews proccesed: 25500 Word detected: 432\n"
       ]
      },
      {
       "output_type": "stream",
       "stream": "stderr",
       "text": [
        "INFO:processing: Reviews proccesed: 26000 Word detected: 434\n"
       ]
      },
      {
       "output_type": "stream",
       "stream": "stderr",
       "text": [
        "INFO:processing: Reviews proccesed: 26500 Word detected: 438\n"
       ]
      },
      {
       "output_type": "stream",
       "stream": "stderr",
       "text": [
        "INFO:processing: Reviews proccesed: 27000 Word detected: 439\n"
       ]
      },
      {
       "output_type": "stream",
       "stream": "stderr",
       "text": [
        "INFO:processing: Reviews proccesed: 27500 Word detected: 440\n"
       ]
      },
      {
       "output_type": "stream",
       "stream": "stderr",
       "text": [
        "INFO:processing: Reviews proccesed: 28000 Word detected: 440\n"
       ]
      },
      {
       "output_type": "stream",
       "stream": "stderr",
       "text": [
        "INFO:processing: Reviews proccesed: 28500 Word detected: 440\n"
       ]
      },
      {
       "output_type": "stream",
       "stream": "stderr",
       "text": [
        "INFO:processing: Reviews proccesed: 29000 Word detected: 445\n"
       ]
      },
      {
       "output_type": "stream",
       "stream": "stderr",
       "text": [
        "INFO:processing: Reviews proccesed: 29500 Word detected: 450\n"
       ]
      },
      {
       "output_type": "stream",
       "stream": "stderr",
       "text": [
        "INFO:processing: Reviews proccesed: 30000 Word detected: 451\n"
       ]
      },
      {
       "output_type": "stream",
       "stream": "stderr",
       "text": [
        "INFO:processing: Reviews proccesed: 30500 Word detected: 452\n"
       ]
      },
      {
       "output_type": "stream",
       "stream": "stderr",
       "text": [
        "INFO:processing: Reviews proccesed: 31000 Word detected: 453\n"
       ]
      },
      {
       "output_type": "stream",
       "stream": "stderr",
       "text": [
        "INFO:processing: Reviews proccesed: 31500 Word detected: 454\n"
       ]
      },
      {
       "output_type": "stream",
       "stream": "stderr",
       "text": [
        "INFO:processing: Reviews proccesed: 32000 Word detected: 456\n"
       ]
      },
      {
       "output_type": "stream",
       "stream": "stderr",
       "text": [
        "INFO:processing: Reviews proccesed: 32500 Word detected: 457\n"
       ]
      },
      {
       "output_type": "stream",
       "stream": "stderr",
       "text": [
        "INFO:processing: Reviews proccesed: 33000 Word detected: 459\n"
       ]
      },
      {
       "output_type": "stream",
       "stream": "stderr",
       "text": [
        "INFO:processing: Reviews proccesed: 33500 Word detected: 459\n"
       ]
      },
      {
       "output_type": "stream",
       "stream": "stderr",
       "text": [
        "INFO:processing: Reviews proccesed: 34000 Word detected: 459\n"
       ]
      },
      {
       "output_type": "stream",
       "stream": "stderr",
       "text": [
        "INFO:processing: Reviews proccesed: 34500 Word detected: 461\n"
       ]
      },
      {
       "output_type": "stream",
       "stream": "stderr",
       "text": [
        "INFO:processing: Reviews proccesed: 35000 Word detected: 462\n"
       ]
      },
      {
       "output_type": "stream",
       "stream": "stderr",
       "text": [
        "INFO:processing: Reviews proccesed: 35500 Word detected: 463\n"
       ]
      },
      {
       "output_type": "stream",
       "stream": "stderr",
       "text": [
        "INFO:processing: Reviews proccesed: 36000 Word detected: 464\n"
       ]
      },
      {
       "output_type": "stream",
       "stream": "stderr",
       "text": [
        "INFO:processing: Reviews proccesed: 36500 Word detected: 464\n"
       ]
      },
      {
       "output_type": "stream",
       "stream": "stderr",
       "text": [
        "INFO:processing: Reviews proccesed: 37000 Word detected: 465\n"
       ]
      },
      {
       "output_type": "stream",
       "stream": "stderr",
       "text": [
        "INFO:processing: Reviews proccesed: 37500 Word detected: 465\n"
       ]
      },
      {
       "output_type": "stream",
       "stream": "stderr",
       "text": [
        "INFO:processing: Reviews proccesed: 38000 Word detected: 465\n"
       ]
      },
      {
       "output_type": "stream",
       "stream": "stderr",
       "text": [
        "INFO:processing: Reviews proccesed: 38500 Word detected: 466\n"
       ]
      },
      {
       "output_type": "stream",
       "stream": "stderr",
       "text": [
        "INFO:processing: Reviews proccesed: 39000 Word detected: 467\n"
       ]
      },
      {
       "output_type": "stream",
       "stream": "stderr",
       "text": [
        "INFO:processing: Reviews proccesed: 39500 Word detected: 467\n"
       ]
      },
      {
       "output_type": "stream",
       "stream": "stderr",
       "text": [
        "INFO:processing: Reviews proccesed: 40000 Word detected: 467\n"
       ]
      },
      {
       "output_type": "stream",
       "stream": "stderr",
       "text": [
        "INFO:processing: Reviews proccesed: 40500 Word detected: 468\n"
       ]
      },
      {
       "output_type": "stream",
       "stream": "stderr",
       "text": [
        "INFO:processing: Reviews proccesed: 41000 Word detected: 469\n"
       ]
      },
      {
       "output_type": "stream",
       "stream": "stderr",
       "text": [
        "INFO:processing: Reviews proccesed: 41500 Word detected: 470\n"
       ]
      },
      {
       "output_type": "stream",
       "stream": "stderr",
       "text": [
        "INFO:processing: Reviews proccesed: 42000 Word detected: 471\n"
       ]
      },
      {
       "output_type": "stream",
       "stream": "stderr",
       "text": [
        "INFO:processing: Reviews proccesed: 42500 Word detected: 473\n"
       ]
      },
      {
       "output_type": "stream",
       "stream": "stderr",
       "text": [
        "INFO:processing: Reviews proccesed: 43000 Word detected: 474\n"
       ]
      },
      {
       "output_type": "stream",
       "stream": "stderr",
       "text": [
        "INFO:processing: Reviews proccesed: 43500 Word detected: 475\n"
       ]
      },
      {
       "output_type": "stream",
       "stream": "stderr",
       "text": [
        "INFO:processing: Reviews proccesed: 44000 Word detected: 476\n"
       ]
      },
      {
       "output_type": "stream",
       "stream": "stderr",
       "text": [
        "INFO:processing: Reviews proccesed: 44500 Word detected: 478\n"
       ]
      },
      {
       "output_type": "stream",
       "stream": "stderr",
       "text": [
        "INFO:processing: Reviews proccesed: 45000 Word detected: 478\n"
       ]
      },
      {
       "output_type": "stream",
       "stream": "stderr",
       "text": [
        "INFO:processing: Reviews proccesed: 45500 Word detected: 478\n"
       ]
      },
      {
       "output_type": "stream",
       "stream": "stderr",
       "text": [
        "INFO:processing: Reviews proccesed: 46000 Word detected: 478\n"
       ]
      },
      {
       "output_type": "stream",
       "stream": "stderr",
       "text": [
        "INFO:processing: Reviews proccesed: 46500 Word detected: 480\n"
       ]
      },
      {
       "output_type": "stream",
       "stream": "stderr",
       "text": [
        "INFO:processing: Reviews proccesed: 47000 Word detected: 480\n"
       ]
      },
      {
       "output_type": "stream",
       "stream": "stderr",
       "text": [
        "INFO:processing: Reviews proccesed: 47500 Word detected: 480\n"
       ]
      },
      {
       "output_type": "stream",
       "stream": "stderr",
       "text": [
        "INFO:processing: Reviews proccesed: 48000 Word detected: 480\n"
       ]
      },
      {
       "output_type": "stream",
       "stream": "stderr",
       "text": [
        "INFO:processing: Reviews proccesed: 48500 Word detected: 481\n"
       ]
      },
      {
       "output_type": "stream",
       "stream": "stderr",
       "text": [
        "INFO:processing: Reviews proccesed: 49000 Word detected: 481\n"
       ]
      },
      {
       "output_type": "stream",
       "stream": "stderr",
       "text": [
        "INFO:processing: Reviews proccesed: 49500 Word detected: 481\n"
       ]
      },
      {
       "output_type": "stream",
       "stream": "stderr",
       "text": [
        "INFO:processing: Reviews proccesed: 50000 Word detected: 482\n"
       ]
      },
      {
       "output_type": "stream",
       "stream": "stderr",
       "text": [
        "INFO:processing: Reviews proccesed: 50500 Word detected: 482\n"
       ]
      },
      {
       "output_type": "stream",
       "stream": "stderr",
       "text": [
        "INFO:processing: Reviews proccesed: 51000 Word detected: 483\n"
       ]
      },
      {
       "output_type": "stream",
       "stream": "stderr",
       "text": [
        "INFO:processing: Reviews proccesed: 51500 Word detected: 483\n"
       ]
      },
      {
       "output_type": "stream",
       "stream": "stderr",
       "text": [
        "INFO:processing: Reviews proccesed: 52000 Word detected: 483\n"
       ]
      },
      {
       "output_type": "stream",
       "stream": "stderr",
       "text": [
        "INFO:processing: Reviews proccesed: 52500 Word detected: 483\n"
       ]
      },
      {
       "output_type": "stream",
       "stream": "stderr",
       "text": [
        "INFO:processing: Reviews proccesed: 53000 Word detected: 485\n"
       ]
      },
      {
       "output_type": "stream",
       "stream": "stderr",
       "text": [
        "INFO:processing: Reviews proccesed: 53500 Word detected: 485\n"
       ]
      },
      {
       "output_type": "stream",
       "stream": "stderr",
       "text": [
        "INFO:processing: Reviews proccesed: 54000 Word detected: 485\n"
       ]
      },
      {
       "output_type": "stream",
       "stream": "stderr",
       "text": [
        "INFO:processing: Reviews proccesed: 54500 Word detected: 485\n"
       ]
      },
      {
       "output_type": "stream",
       "stream": "stderr",
       "text": [
        "INFO:processing: Reviews proccesed: 55000 Word detected: 486\n"
       ]
      },
      {
       "output_type": "stream",
       "stream": "stderr",
       "text": [
        "INFO:processing: Reviews proccesed: 55500 Word detected: 486\n"
       ]
      },
      {
       "output_type": "stream",
       "stream": "stderr",
       "text": [
        "INFO:processing: Reviews proccesed: 56000 Word detected: 487\n"
       ]
      },
      {
       "output_type": "stream",
       "stream": "stderr",
       "text": [
        "INFO:processing: Reviews proccesed: 56500 Word detected: 487\n"
       ]
      },
      {
       "output_type": "stream",
       "stream": "stderr",
       "text": [
        "INFO:processing: Reviews proccesed: 57000 Word detected: 489\n"
       ]
      },
      {
       "output_type": "stream",
       "stream": "stderr",
       "text": [
        "INFO:processing: Reviews proccesed: 57500 Word detected: 489\n"
       ]
      },
      {
       "output_type": "stream",
       "stream": "stderr",
       "text": [
        "INFO:processing: Reviews proccesed: 58000 Word detected: 489\n"
       ]
      },
      {
       "output_type": "stream",
       "stream": "stderr",
       "text": [
        "INFO:processing: Reviews proccesed: 58500 Word detected: 490\n"
       ]
      },
      {
       "output_type": "stream",
       "stream": "stderr",
       "text": [
        "INFO:processing: Reviews proccesed: 59000 Word detected: 490\n"
       ]
      },
      {
       "output_type": "stream",
       "stream": "stderr",
       "text": [
        "INFO:processing: Reviews proccesed: 59500 Word detected: 490\n"
       ]
      },
      {
       "output_type": "stream",
       "stream": "stderr",
       "text": [
        "INFO:processing: Reviews proccesed: 60000 Word detected: 490\n"
       ]
      },
      {
       "output_type": "stream",
       "stream": "stderr",
       "text": [
        "INFO:processing: Reviews proccesed: 60500 Word detected: 490\n"
       ]
      },
      {
       "output_type": "stream",
       "stream": "stderr",
       "text": [
        "INFO:processing: Reviews proccesed: 61000 Word detected: 490\n"
       ]
      },
      {
       "output_type": "stream",
       "stream": "stderr",
       "text": [
        "INFO:processing: Reviews proccesed: 61500 Word detected: 491\n"
       ]
      },
      {
       "output_type": "stream",
       "stream": "stderr",
       "text": [
        "INFO:processing: Reviews proccesed: 62000 Word detected: 491\n"
       ]
      },
      {
       "output_type": "stream",
       "stream": "stderr",
       "text": [
        "INFO:processing: Reviews proccesed: 62500 Word detected: 491\n"
       ]
      },
      {
       "output_type": "stream",
       "stream": "stderr",
       "text": [
        "INFO:processing: Reviews proccesed: 63000 Word detected: 492\n"
       ]
      },
      {
       "output_type": "stream",
       "stream": "stderr",
       "text": [
        "INFO:processing: Reviews proccesed: 63500 Word detected: 493\n"
       ]
      },
      {
       "output_type": "stream",
       "stream": "stderr",
       "text": [
        "INFO:processing: Reviews proccesed: 64000 Word detected: 493\n"
       ]
      },
      {
       "output_type": "stream",
       "stream": "stderr",
       "text": [
        "INFO:processing: Reviews proccesed: 64500 Word detected: 494\n"
       ]
      },
      {
       "output_type": "stream",
       "stream": "stderr",
       "text": [
        "INFO:processing: Reviews proccesed: 65000 Word detected: 494\n"
       ]
      },
      {
       "output_type": "stream",
       "stream": "stderr",
       "text": [
        "INFO:processing: Reviews proccesed: 65500 Word detected: 495\n"
       ]
      },
      {
       "output_type": "stream",
       "stream": "stderr",
       "text": [
        "INFO:processing: Reviews proccesed: 66000 Word detected: 495\n"
       ]
      },
      {
       "output_type": "stream",
       "stream": "stderr",
       "text": [
        "INFO:processing: Reviews proccesed: 66500 Word detected: 495\n"
       ]
      },
      {
       "output_type": "stream",
       "stream": "stderr",
       "text": [
        "INFO:processing: Reviews proccesed: 67000 Word detected: 495\n"
       ]
      },
      {
       "output_type": "stream",
       "stream": "stderr",
       "text": [
        "INFO:processing: Reviews proccesed: 67500 Word detected: 495\n"
       ]
      },
      {
       "output_type": "stream",
       "stream": "stderr",
       "text": [
        "INFO:processing: Reviews proccesed: 68000 Word detected: 495\n"
       ]
      },
      {
       "output_type": "stream",
       "stream": "stderr",
       "text": [
        "INFO:processing: Reviews proccesed: 68500 Word detected: 495\n"
       ]
      },
      {
       "output_type": "stream",
       "stream": "stderr",
       "text": [
        "INFO:processing: Reviews proccesed: 69000 Word detected: 497\n"
       ]
      },
      {
       "output_type": "stream",
       "stream": "stderr",
       "text": [
        "INFO:processing: Reviews proccesed: 69500 Word detected: 497\n"
       ]
      },
      {
       "output_type": "stream",
       "stream": "stderr",
       "text": [
        "INFO:processing: Reviews proccesed: 70000 Word detected: 498\n"
       ]
      },
      {
       "output_type": "stream",
       "stream": "stderr",
       "text": [
        "INFO:processing: Reviews proccesed: 70500 Word detected: 498\n"
       ]
      },
      {
       "output_type": "stream",
       "stream": "stderr",
       "text": [
        "INFO:processing: Reviews proccesed: 71000 Word detected: 498\n"
       ]
      },
      {
       "output_type": "stream",
       "stream": "stderr",
       "text": [
        "INFO:processing: Reviews proccesed: 71500 Word detected: 501\n"
       ]
      },
      {
       "output_type": "stream",
       "stream": "stderr",
       "text": [
        "INFO:processing: Reviews proccesed: 72000 Word detected: 501\n"
       ]
      },
      {
       "output_type": "stream",
       "stream": "stderr",
       "text": [
        "INFO:processing: Reviews proccesed: 72500 Word detected: 501\n"
       ]
      },
      {
       "output_type": "stream",
       "stream": "stderr",
       "text": [
        "INFO:processing: Reviews proccesed: 73000 Word detected: 501\n"
       ]
      },
      {
       "output_type": "stream",
       "stream": "stderr",
       "text": [
        "INFO:processing: Reviews proccesed: 73500 Word detected: 502\n"
       ]
      },
      {
       "output_type": "stream",
       "stream": "stderr",
       "text": [
        "INFO:processing: Reviews proccesed: 74000 Word detected: 502\n"
       ]
      },
      {
       "output_type": "stream",
       "stream": "stderr",
       "text": [
        "INFO:processing: Reviews proccesed: 74500 Word detected: 502\n"
       ]
      },
      {
       "output_type": "stream",
       "stream": "stderr",
       "text": [
        "INFO:processing: Reviews proccesed: 75000 Word detected: 505\n"
       ]
      },
      {
       "output_type": "stream",
       "stream": "stderr",
       "text": [
        "INFO:processing: Reviews proccesed: 75500 Word detected: 505\n"
       ]
      },
      {
       "output_type": "stream",
       "stream": "stderr",
       "text": [
        "INFO:processing: Reviews proccesed: 76000 Word detected: 505\n"
       ]
      },
      {
       "output_type": "stream",
       "stream": "stderr",
       "text": [
        "INFO:processing: Reviews proccesed: 76500 Word detected: 505\n"
       ]
      },
      {
       "output_type": "stream",
       "stream": "stderr",
       "text": [
        "INFO:processing: Reviews proccesed: 77000 Word detected: 509\n"
       ]
      },
      {
       "output_type": "stream",
       "stream": "stderr",
       "text": [
        "INFO:processing: Reviews proccesed: 77500 Word detected: 509\n"
       ]
      },
      {
       "output_type": "stream",
       "stream": "stderr",
       "text": [
        "INFO:processing: Reviews proccesed: 78000 Word detected: 510\n"
       ]
      },
      {
       "output_type": "stream",
       "stream": "stderr",
       "text": [
        "INFO:processing: Reviews proccesed: 78500 Word detected: 510\n"
       ]
      },
      {
       "output_type": "stream",
       "stream": "stderr",
       "text": [
        "INFO:processing: Saved 510 words labeled.\n"
       ]
      }
     ],
     "prompt_number": 112
    }
   ],
   "metadata": {}
  }
 ]
}